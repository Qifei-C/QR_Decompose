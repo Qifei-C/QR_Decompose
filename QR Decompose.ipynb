{
 "cells": [
  {
   "cell_type": "markdown",
   "id": "a38e5ee2",
   "metadata": {},
   "source": [
    "# Setting Up Environment"
   ]
  },
  {
   "cell_type": "code",
   "execution_count": 1,
   "id": "9e3a7803",
   "metadata": {},
   "outputs": [],
   "source": [
    "import numpy as np\n",
    "import warnings\n",
    "warnings.filterwarnings(\"ignore\", category=RuntimeWarning)"
   ]
  },
  {
   "attachments": {},
   "cell_type": "markdown",
   "id": "c080a333",
   "metadata": {},
   "source": [
    "# Gram-Schmidt Orthonormalization"
   ]
  },
  {
   "attachments": {},
   "cell_type": "markdown",
   "id": "6861cee4",
   "metadata": {},
   "source": [
    "## Normalized through $||\\cdot||_2$"
   ]
  },
  {
   "cell_type": "markdown",
   "id": "b0ae05e6",
   "metadata": {},
   "source": [
    "Notice that a vector norm on $\\mathbb{R}^n$, $||\\cdot||_2:\\mathbb{R}^n\\to\\mathbb{R}^n$ satisify\n",
    "$$\n",
    "||x||_2=(\\sum\\limits_{i=1}^n x_i^2)^{\\frac{1}{2}}\n",
    "$$\n",
    "For any $n\\times n$ matrix $A$ such that \n",
    "$$\n",
    "A=\\big[a_1|a_2|\\cdots|a_n\\big]\n",
    "$$\n",
    "We pick up each vector and process through $e_i=\\frac{a_i}{||a_i||_2}$, and construct a new normalized matrix\n",
    "$$\n",
    "E=\\big[e_1|e_2|\\cdots|e_n\\big]\n",
    "$$"
   ]
  },
  {
   "cell_type": "code",
   "execution_count": 2,
   "id": "189eec37",
   "metadata": {},
   "outputs": [],
   "source": [
    "def norm2(A):\n",
    "    n=A.shape[0] #find dimension of matrix\n",
    "    normA = np.zeros((n,n)) #initiate n×n zero matrix to save normalized matrix\n",
    "    i=0\n",
    "    while (i<n):\n",
    "        a=A[:,i]\n",
    "        j=0\n",
    "        n2 = 0\n",
    "        while (j<n):\n",
    "            n2 += (a[j])**2 #sum of all a_i_j^2\n",
    "            j += 1\n",
    "        n2 = n2**(0.5) #calculate ||.||2 for each vector in A\n",
    "        a=a/n2 #normalize vector\n",
    "        normA[::,i]=a #append into the normalized matrix\n",
    "        i = i+1\n",
    "    return normA\n"
   ]
  },
  {
   "cell_type": "markdown",
   "id": "ff811486",
   "metadata": {},
   "source": [
    "## Gram - Schimidt"
   ]
  },
  {
   "cell_type": "markdown",
   "id": "66f7fa81",
   "metadata": {},
   "source": [
    "For any $n\\times n$ matrix $A$ such that \n",
    "$$\n",
    "A=\\big[a_1|a_2|\\cdots|a_n\\big]\n",
    "$$\n",
    "Let $Q\\big[q_1|q_2|\\cdots|q_n\\big]$ be the matrix has orthonormal form, Gram-Schimidt process calculates the orthogonal vectors by projection operator $\\text{proj}_u(v)$ such that\n",
    "$$\n",
    "\\text{proj}_u(v)=\\frac{\\langle v,u \\rangle}{\\langle u,u \\rangle}u\n",
    "$$\n",
    "where the vector $v$ orthogonally onto $\\text{span}(u)$. For $i=1$, $q_1$ be the fundemental vector and let $q_1=a_1$. Applying  Gram–Schmidt process on the rest of the vectors\n",
    "$$\n",
    "q_i=a_i-\\sum\\limits_{j=1}^{i-1}\\text{proj}_{q_j}(a_i)\n",
    "$$\n",
    "Substitude the definition of projection operator\n",
    "$$\n",
    "q_i=a_i-\\sum\\limits_{j=1}^{i-1}\\frac{\\langle a_j,a_i\\rangle}{\\langle a_j,a_j\\rangle}a_j \\quad i=(2,\\cdots,n)\n",
    "$$\n",
    "where $\\langle\\cdot,\\cdot\\rangle$ stands for the vector inner product which can be rewrite as\n",
    "$$\n",
    "q_i=a_i-\\sum\\limits_{j=1}^{i-1}\\frac{a_j^Ta_i}{a_j^Ta_j}a_j \\quad i=(2,\\cdots,n)\n",
    "$$"
   ]
  },
  {
   "cell_type": "code",
   "execution_count": 3,
   "id": "eee56f83",
   "metadata": {},
   "outputs": [],
   "source": [
    "def GramS(A):\n",
    "    n=A.shape[0] #find dimension of matrix\n",
    "    itr = 0 #initiate interation timer\n",
    "    a=A[:,itr] #start from the first vector as basis\n",
    "    orth = np.zeros((n,n)) #initiate n×n zero matrix to save orthonormalized matrix\n",
    "    orth[::,0] = a.transpose() #q1=a1\n",
    "    itr = 1\n",
    "    while (itr<n):\n",
    "        a=np.matrix(A[:,itr]) \n",
    "        i = 0\n",
    "        vec=np.zeros((n,1)) #initiate projection vector\n",
    "        while (i<itr):\n",
    "            inner = (orth[:,i].transpose()@a)/(orth[:,i].transpose()@orth[:,i]) #inner product\n",
    "            vec += np.matrix(inner*orth[:,i]).transpose() #projection vector\n",
    "            i = i+1\n",
    "        a = a - vec #orthogonal vector corresponding to the vector forehead.\n",
    "        orth[::,itr] = a.transpose() #add to orthogonormal matrix\n",
    "        itr = itr + 1\n",
    "    orth = norm2(orth) #normalized using norm2\n",
    "    return orth"
   ]
  },
  {
   "attachments": {},
   "cell_type": "markdown",
   "id": "20dcb3bd",
   "metadata": {},
   "source": [
    "# QR Decomposition"
   ]
  },
  {
   "cell_type": "markdown",
   "id": "4329a4cb",
   "metadata": {},
   "source": [
    "The resuiting of QR factorization is\n",
    "$$\n",
    "A=\\big[a_1|a_2|\\cdots|a_n\\big]=\\big[q_1|q_2\\cdots|q_n\\big]\\left[\n",
    "\\begin{matrix}\n",
    "a_1\\cdot q_1 & a_2\\cdot q_1 & \\cdots & a_n\\cdot q_1 \\\\\n",
    "0 & a_2\\cdot q_1 & \\cdots & a_n\\cdot q_1 \\\\\n",
    "\\vdots & \\vdots & \\ddots & \\vdots \\\\\n",
    "0 & 0 & \\cdots & a_n\\cdot q_n \n",
    "\\end{matrix}\\right]=QR\n",
    "$$\n",
    "With program in 4(a), we can easily find the orthonormal matrix $Q$, applying formula above we can find the upper triangular matrix $R$."
   ]
  },
  {
   "cell_type": "code",
   "execution_count": 4,
   "id": "2e63a3f9",
   "metadata": {},
   "outputs": [],
   "source": [
    "def QR(A):\n",
    "    n=A.shape[0]\n",
    "    Q = GramS(A)\n",
    "    R = np.zeros((n,n)) #initiate upper triangular matrix R\n",
    "    i = 0\n",
    "    while (i<n):\n",
    "        j = 0\n",
    "        while (j<=i):\n",
    "            R[j,i]=Q[:,j]@np.matrix(A[:,i]) #appling inner product\n",
    "            j += 1\n",
    "        i += 1\n",
    "    return [Q,R]"
   ]
  },
  {
   "cell_type": "markdown",
   "id": "05a6411b",
   "metadata": {},
   "source": [
    "Notice $R$ is always upper triangular i.e. $\\langle a_i,q_j\\rangle$ or $a_i^Tq_j=0$ is always true forall $i<j\\leq n$. Since we choose $q_1$ to be a unit vector in the direction of $a_1$ and all rest vector $q_i$ are perpendicular to the earlier ones. And thus they're inner product will always be $0$."
   ]
  }
 ],
 "metadata": {
  "authors": [
   {
    "name": "Qifei Cui"
   }
  ],
  "kernelspec": {
   "display_name": "Python 3 (ipykernel)",
   "language": "python",
   "name": "python3"
  },
  "language_info": {
   "codemirror_mode": {
    "name": "ipython",
    "version": 3
   },
   "file_extension": ".py",
   "mimetype": "text/x-python",
   "name": "python",
   "nbconvert_exporter": "python",
   "pygments_lexer": "ipython3",
   "version": "3.9.13"
  },
  "toc": {
   "base_numbering": 1,
   "nav_menu": {},
   "number_sections": false,
   "sideBar": true,
   "skip_h1_title": false,
   "title_cell": "Table of Contents",
   "title_sidebar": "Contents",
   "toc_cell": false,
   "toc_position": {},
   "toc_section_display": true,
   "toc_window_display": false
  },
  "toc-autonumbering": false,
  "toc-showcode": true,
  "toc-showmarkdowntxt": true,
  "toc-showtags": false,
  "varInspector": {
   "cols": {
    "lenName": 16,
    "lenType": 16,
    "lenVar": 40
   },
   "kernels_config": {
    "python": {
     "delete_cmd_postfix": "",
     "delete_cmd_prefix": "del ",
     "library": "var_list.py",
     "varRefreshCmd": "print(var_dic_list())"
    },
    "r": {
     "delete_cmd_postfix": ") ",
     "delete_cmd_prefix": "rm(",
     "library": "var_list.r",
     "varRefreshCmd": "cat(var_dic_list()) "
    }
   },
   "types_to_exclude": [
    "module",
    "function",
    "builtin_function_or_method",
    "instance",
    "_Feature"
   ],
   "window_display": true
  }
 },
 "nbformat": 4,
 "nbformat_minor": 5
}
